{
 "cells": [
  {
   "cell_type": "markdown",
   "metadata": {},
   "source": [
    "# Numpy Theoritical Questions and Answers"
   ]
  },
  {
   "cell_type": "code",
   "execution_count": 16,
   "metadata": {},
   "outputs": [],
   "source": [
    "# Importing numpy once instead of importing every time and trying to keep programs clean and understable.\n",
    "import numpy as np"
   ]
  },
  {
   "cell_type": "markdown",
   "metadata": {},
   "source": [
    "### Question 1.Create a 3x3 NumPy array with random integers between 1 and 100. Then, interchange its rows and columns.\n",
    "You can create a 3x3 NumPy array with random integers between 1 and 100 using the `numpy.random.randint()` function. To interchange (or swap) the rows and columns, you can use the `numpy.transpose()` function or simply use the `.T` attribute. Here's how to do it step by step:"
   ]
  },
  {
   "cell_type": "code",
   "execution_count": 17,
   "metadata": {},
   "outputs": [
    {
     "name": "stdout",
     "output_type": "stream",
     "text": [
      "The Originial array is given below: \n",
      " [[ 3 38 73]\n",
      " [49 17 87]\n",
      " [69 49  6]]\n",
      "Interchange of the orignal 3x3 array is given below: \n",
      " [[ 3 49 69]\n",
      " [38 17 49]\n",
      " [73 87  6]]\n"
     ]
    }
   ],
   "source": [
    "# Create a 3x3 Numpy array with random integers between 1 and 100.\n",
    "array_3x3 = np.random.randint(1 , 100, size=(3,3))\n",
    "print(\"The Originial array is given below: \\n\", array_3x3)\n",
    "\n",
    "#Now we Use numpy.transpose() or .T to interchange its rows and column.\n",
    "transpose_array_3x3 = array_3x3.T\n",
    "print(\"Interchange of the orignal 3x3 array is given below: \\n\",transpose_array_3x3)"
   ]
  },
  {
   "cell_type": "markdown",
   "metadata": {},
   "source": [
    "This demonstrates how to create a 3x3 NumPy array with random integers and interchange its rows and columns."
   ]
  },
  {
   "cell_type": "markdown",
   "metadata": {},
   "source": [
    "## 2.Generate a 1D NumPy array with 10 elements. Reshape it into a 2x5 array, then into a 5x2 array."
   ]
  },
  {
   "cell_type": "code",
   "execution_count": 18,
   "metadata": {},
   "outputs": [
    {
     "name": "stdout",
     "output_type": "stream",
     "text": [
      "1D Array is given below: \n",
      " [ 1  2  3  4  5  6  7  8  9 10]\n",
      "2x5 Array of 1D Array is given below: \n",
      " [[ 1  2  3  4  5]\n",
      " [ 6  7  8  9 10]]\n",
      "5x2 Array of 1D Array is given below: \n",
      " [[ 1  2]\n",
      " [ 3  4]\n",
      " [ 5  6]\n",
      " [ 7  8]\n",
      " [ 9 10]]\n"
     ]
    }
   ],
   "source": [
    "# Creating a 1D Numpy array with 10 elements\n",
    "# Numpy already imported as np.\n",
    "array_1d = np.array([1,2,3,4,5,6,7,8,9,10])\n",
    "array_2x5 = array_1d.reshape(2,5)\n",
    "array_5x2 = array_1d.reshape(5,2)\n",
    "print(\"1D Array is given below: \\n\", array_1d)\n",
    "print(\"2x5 Array of 1D Array is given below: \\n\", array_2x5)\n",
    "print(\"5x2 Array of 1D Array is given below: \\n\", array_5x2)"
   ]
  },
  {
   "cell_type": "markdown",
   "metadata": {},
   "source": [
    "## 3.Create a 4x4 NumPy array with random float values. Add a border of zeros around it, resulting in a 6x6 array."
   ]
  },
  {
   "cell_type": "markdown",
   "metadata": {},
   "source": [
    "We can create a 4x4 NumPy array with random float values and then add a border of zeros around it to get a 6x6 array using the following code:"
   ]
  },
  {
   "cell_type": "code",
   "execution_count": 19,
   "metadata": {},
   "outputs": [
    {
     "name": "stdout",
     "output_type": "stream",
     "text": [
      "Original 4x4 Array:\n",
      "[[0.91247654 0.89891947 0.05861165 0.96235135]\n",
      " [0.11359841 0.63928396 0.98496889 0.0413356 ]\n",
      " [0.70838017 0.88364023 0.9906876  0.78206073]\n",
      " [0.08704564 0.55551567 0.3041552  0.62949203]]\n",
      "\n",
      "6x6 Array with Border of Zeros:\n",
      "[[0.         0.         0.         0.         0.         0.        ]\n",
      " [0.         0.91247654 0.89891947 0.05861165 0.96235135 0.        ]\n",
      " [0.         0.11359841 0.63928396 0.98496889 0.0413356  0.        ]\n",
      " [0.         0.70838017 0.88364023 0.9906876  0.78206073 0.        ]\n",
      " [0.         0.08704564 0.55551567 0.3041552  0.62949203 0.        ]\n",
      " [0.         0.         0.         0.         0.         0.        ]]\n"
     ]
    }
   ],
   "source": [
    "# Creating a 4x4 Numpy with random float values.\n",
    "# Numpy already imported as np\n",
    "array_4x4 = np.random.rand(4,4)\n",
    "\n",
    "# Add a border of zeros around the 4x4 array\n",
    "array_with_border = np.pad(array_4x4, pad_width=1, mode='constant', constant_values=0)\n",
    "\n",
    "print(\"Original 4x4 Array:\")\n",
    "print(array_4x4)\n",
    "print(\"\\n6x6 Array with Border of Zeros:\")\n",
    "print(array_with_border)\n"
   ]
  },
  {
   "cell_type": "markdown",
   "metadata": {},
   "source": [
    "This code generates a 4x4 array with random float values and then pads it with zeros to create a 6x6 array. The `np.pad` function is used for adding the border."
   ]
  },
  {
   "cell_type": "markdown",
   "metadata": {},
   "source": [
    "## 4.Using NumPy, create an array of integers from 10 to 60 with a step of 5."
   ]
  },
  {
   "cell_type": "markdown",
   "metadata": {},
   "source": [
    "You can create an array of integers from 10 to 60 with a step of 5 using NumPy's `arange` function. Here's how you can do it:"
   ]
  },
  {
   "cell_type": "code",
   "execution_count": 20,
   "metadata": {},
   "outputs": [
    {
     "name": "stdout",
     "output_type": "stream",
     "text": [
      "[10 15 20 25 30 35 40 45 50 55 60]\n"
     ]
    }
   ],
   "source": [
    "# import numpy as np (Already imported)\n",
    "\n",
    "# Create the array\n",
    "array = np.arange(10, 65, 5)  # 65 is used as the stop value (exclusive)\n",
    "\n",
    "print(array)"
   ]
  },
  {
   "cell_type": "markdown",
   "metadata": {},
   "source": [
    "## 5.Create a NumPy array of strings ['python', 'numpy', 'pandas']. Apply different case transformations (uppercase, lowercase, title case, etc.) to each element."
   ]
  },
  {
   "cell_type": "markdown",
   "metadata": {},
   "source": [
    "We can create a NumPy array of strings and then apply various case transformations to each element using NumPy's vectorized operations. Here's how you can do it:"
   ]
  },
  {
   "cell_type": "code",
   "execution_count": 21,
   "metadata": {},
   "outputs": [
    {
     "name": "stdout",
     "output_type": "stream",
     "text": [
      "Original Array: ['python' 'numpy' 'pandas']\n",
      "Uppercase: ['PYTHON' 'NUMPY' 'PANDAS']\n",
      "Lowercase: ['python' 'numpy' 'pandas']\n",
      "Title Case: ['Python' 'Numpy' 'Pandas']\n",
      "Capitalize: ['Python' 'Numpy' 'Pandas']\n"
     ]
    }
   ],
   "source": [
    "# import numpy as np (Already imorted)\n",
    "\n",
    "# Create the array of strings\n",
    "arr = np.array(['python', 'numpy', 'pandas'])\n",
    "\n",
    "# Apply different case transformations\n",
    "uppercase = np.char.upper(arr)\n",
    "lowercase = np.char.lower(arr)\n",
    "titlecase = np.char.title(arr)\n",
    "capitalize = np.char.capitalize(arr)\n",
    "\n",
    "# Print the results\n",
    "print(\"Original Array:\", arr)\n",
    "print(\"Uppercase:\", uppercase)\n",
    "print(\"Lowercase:\", lowercase)\n",
    "print(\"Title Case:\", titlecase)\n",
    "print(\"Capitalize:\", capitalize)\n"
   ]
  },
  {
   "cell_type": "markdown",
   "metadata": {},
   "source": [
    "## 6.Generate a NumPy array of words. Insert a space between each character of every word in the array."
   ]
  },
  {
   "cell_type": "markdown",
   "metadata": {},
   "source": [
    "We can generate a NumPy array of words and then insert a space between each character of every word using NumPy's vectorized string operations. Here's how to do it:"
   ]
  },
  {
   "cell_type": "code",
   "execution_count": 22,
   "metadata": {},
   "outputs": [
    {
     "name": "stdout",
     "output_type": "stream",
     "text": [
      "['h e l l o' 'w o r l d' 'n u m p y' 'p y t h o n']\n"
     ]
    }
   ],
   "source": [
    "# import numpy as np (Already imported)\n",
    "\n",
    "# Create the array of words\n",
    "words = np.array(['hello', 'world', 'numpy', 'python'])\n",
    "\n",
    "# Insert a space between each character of every word\n",
    "spaced_words = np.char.join(' ', words)\n",
    "\n",
    "# Print the result\n",
    "print(spaced_words)\n"
   ]
  },
  {
   "cell_type": "markdown",
   "metadata": {},
   "source": [
    "## 7.Create two 2D NumPy arrays and perform element-wise addition, subtraction, multiplication, and division."
   ]
  },
  {
   "cell_type": "markdown",
   "metadata": {},
   "source": [
    "We can create two 2D NumPy arrays and then perform element-wise operations such as addition, subtraction, multiplication, and division. Here’s how you can do it:"
   ]
  },
  {
   "cell_type": "code",
   "execution_count": 23,
   "metadata": {},
   "outputs": [
    {
     "name": "stdout",
     "output_type": "stream",
     "text": [
      "Array 1:\n",
      " [[1 2 3]\n",
      " [4 5 6]]\n",
      "Array 2:\n",
      " [[ 7  8  9]\n",
      " [10 11 12]]\n",
      "Addition:\n",
      " [[ 8 10 12]\n",
      " [14 16 18]]\n",
      "Subtraction:\n",
      " [[-6 -6 -6]\n",
      " [-6 -6 -6]]\n",
      "Multiplication:\n",
      " [[ 7 16 27]\n",
      " [40 55 72]]\n",
      "Division:\n",
      " [[0.14285714 0.25       0.33333333]\n",
      " [0.4        0.45454545 0.5       ]]\n"
     ]
    }
   ],
   "source": [
    "# import numpy as np (Already Imported)\n",
    "\n",
    "# Create two 2D NumPy arrays\n",
    "array1 = np.array([[1, 2, 3],\n",
    "                   [4, 5, 6]])\n",
    "\n",
    "array2 = np.array([[7, 8, 9],\n",
    "                   [10, 11, 12]])\n",
    "\n",
    "# Perform element-wise operations\n",
    "addition = array1 + array2\n",
    "subtraction = array1 - array2\n",
    "multiplication = array1 * array2\n",
    "division = array1 / array2\n",
    "\n",
    "# Print the results\n",
    "print(\"Array 1:\\n\", array1)\n",
    "print(\"Array 2:\\n\", array2)\n",
    "print(\"Addition:\\n\", addition)\n",
    "print(\"Subtraction:\\n\", subtraction)\n",
    "print(\"Multiplication:\\n\", multiplication)\n",
    "print(\"Division:\\n\", division)\n"
   ]
  },
  {
   "cell_type": "markdown",
   "metadata": {},
   "source": [
    "## 8.Use NumPy to create a 5x5 identity matrix, then extract its diagonal elements."
   ]
  },
  {
   "cell_type": "markdown",
   "metadata": {},
   "source": [
    "We can create a 5x5 identity matrix using NumPy's eye function and then extract its diagonal elements using the diag function. Here’s how to do it:"
   ]
  },
  {
   "cell_type": "code",
   "execution_count": 24,
   "metadata": {},
   "outputs": [
    {
     "name": "stdout",
     "output_type": "stream",
     "text": [
      "Identity Matrix:\n",
      " [[1. 0. 0. 0. 0.]\n",
      " [0. 1. 0. 0. 0.]\n",
      " [0. 0. 1. 0. 0.]\n",
      " [0. 0. 0. 1. 0.]\n",
      " [0. 0. 0. 0. 1.]]\n",
      "Diagonal Elements: [1. 1. 1. 1. 1.]\n"
     ]
    }
   ],
   "source": [
    "import numpy as np\n",
    "\n",
    "# Create a 5x5 identity matrix\n",
    "identity_matrix = np.eye(5)\n",
    "\n",
    "# Extract the diagonal elements\n",
    "diagonal_elements = np.diag(identity_matrix)\n",
    "\n",
    "# Print the results\n",
    "print(\"Identity Matrix:\\n\", identity_matrix)\n",
    "print(\"Diagonal Elements:\", diagonal_elements)\n"
   ]
  },
  {
   "cell_type": "markdown",
   "metadata": {},
   "source": [
    "## 9.Generate a NumPy array of 100 random integers between 0 and 1000. Find and display all prime numbers in this array."
   ]
  },
  {
   "cell_type": "code",
   "execution_count": 25,
   "metadata": {},
   "outputs": [
    {
     "name": "stdout",
     "output_type": "stream",
     "text": [
      "Random Integers:\n",
      " [774 843 549 883 315 704  56 976 439 199 295 742 482 207  66 176 383 419\n",
      " 489 454 295 970 210 674 576 916 949 766 637 494  99 854 852 268 900 636\n",
      " 820 211 567 325 693 729 654 134 582 327 304 218 712 116 906  52 207  46\n",
      " 981 205 338 949 351 664 539 483 899 459 167  40  45 313 873 221 812 929\n",
      "  86  58 461 752 904 758 746 144 675 935 151 828 351 750 441 361 599 770\n",
      " 102 914 215 975 335 400 862 784 858 486]\n",
      "Prime Numbers: [np.int32(883), np.int32(439), np.int32(199), np.int32(383), np.int32(419), np.int32(211), np.int32(167), np.int32(313), np.int32(929), np.int32(461), np.int32(151), np.int32(599)]\n"
     ]
    }
   ],
   "source": [
    "# import numpy as np (Already Imported)\n",
    "\n",
    "# Generate an array of 100 random integers between 0 and 1000\n",
    "random_integers = np.random.randint(0, 1001, size=100)\n",
    "\n",
    "# Function to check if a number is prime\n",
    "def is_prime(n):\n",
    "    if n <= 1:\n",
    "        return False\n",
    "    for i in range(2, int(n**0.5) + 1):\n",
    "        if n % i == 0:\n",
    "            return False\n",
    "    return True\n",
    "\n",
    "# Find all prime numbers in the array\n",
    "prime_numbers = [num for num in random_integers if is_prime(num)]\n",
    "\n",
    "# Print the results\n",
    "print(\"Random Integers:\\n\", random_integers)\n",
    "print(\"Prime Numbers:\", prime_numbers)\n"
   ]
  },
  {
   "cell_type": "markdown",
   "metadata": {},
   "source": [
    "## 10.Create a NumPy array representing daily temperatures for a month. Calculate and display the weekly averages."
   ]
  },
  {
   "cell_type": "markdown",
   "metadata": {},
   "source": [
    "We can create a NumPy array representing daily temperatures for a month (30 days) and then calculate the weekly averages. Here's how you can do it:"
   ]
  },
  {
   "cell_type": "code",
   "execution_count": 26,
   "metadata": {},
   "outputs": [
    {
     "name": "stdout",
     "output_type": "stream",
     "text": [
      "Daily Temperatures for the Month:\n",
      " [13 17  7 13 20 18 28 23  5  8 35 24 33  2 11 13 16 30 34 26 19 32 10 21\n",
      "  7 14 17 22 30 32]\n",
      "Weekly Temperatures (5 weeks, 6 days each):\n",
      " [[13 17  7 13 20 18]\n",
      " [28 23  5  8 35 24]\n",
      " [33  2 11 13 16 30]\n",
      " [34 26 19 32 10 21]\n",
      " [ 7 14 17 22 30 32]]\n",
      "Weekly Averages: [14.66666667 20.5        17.5        23.66666667 20.33333333]\n"
     ]
    }
   ],
   "source": [
    "# import numpy as np (Already Imported)\n",
    "\n",
    "# Generate a NumPy array representing daily temperatures for a month (30 days)\n",
    "# Random temperatures between 0 and 35 degrees Celsius\n",
    "daily_temperatures = np.random.randint(0, 36, size=30)\n",
    "\n",
    "# Reshape the array to have 5 weeks (rows) and 6 days (columns)\n",
    "weekly_temperatures = daily_temperatures.reshape(5, 6)\n",
    "\n",
    "# Calculate weekly averages\n",
    "weekly_averages = np.mean(weekly_temperatures, axis=1)\n",
    "\n",
    "# Print the results\n",
    "print(\"Daily Temperatures for the Month:\\n\", daily_temperatures)\n",
    "print(\"Weekly Temperatures (5 weeks, 6 days each):\\n\", weekly_temperatures)\n",
    "print(\"Weekly Averages:\", weekly_averages)\n"
   ]
  }
 ],
 "metadata": {
  "kernelspec": {
   "display_name": "Python 3",
   "language": "python",
   "name": "python3"
  },
  "language_info": {
   "codemirror_mode": {
    "name": "ipython",
    "version": 3
   },
   "file_extension": ".py",
   "mimetype": "text/x-python",
   "name": "python",
   "nbconvert_exporter": "python",
   "pygments_lexer": "ipython3",
   "version": "3.12.6"
  }
 },
 "nbformat": 4,
 "nbformat_minor": 2
}
