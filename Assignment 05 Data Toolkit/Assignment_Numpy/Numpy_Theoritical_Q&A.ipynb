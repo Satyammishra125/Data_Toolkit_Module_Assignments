{
 "cells": [
  {
   "cell_type": "markdown",
   "metadata": {},
   "source": [
    "# Numpy Theoritical Questions and Answers"
   ]
  },
  {
   "cell_type": "markdown",
   "metadata": {},
   "source": [
    "## Question 1. Explain the purpose and advantages of NumPy in scientific computing and data analysis. How does it enhance Python's capabilities for numerical operations?\n",
    "NumPy, short for Numerical Python, is a fundamental library for scientific computing in Python. Its primary purpose is to provide support for large, multi-dimensional arrays and matrices, along with a collection of mathematical functions to operate on these arrays. Here are some key advantages and how it enhances Python’s capabilities for numerical operations:\n",
    "\n",
    "### Purpose of NumPy:\n",
    "1. **Array Handling**: NumPy introduces the `ndarray` object, which is a powerful n-dimensional array. This allows for efficient storage and manipulation of large datasets.\n",
    "  \n",
    "2. **Performance**: NumPy is optimized for performance. It is implemented in C and Fortran, making array operations faster than traditional Python lists.\n",
    "\n",
    "3. **Mathematical Functions**: It provides a wide array of mathematical functions, including linear algebra, statistical operations, and Fourier transforms, making it easier to perform complex calculations.\n",
    "\n",
    "### Advantages of NumPy:\n",
    "1. **Efficiency**: Operations on NumPy arrays are executed in compiled code, which speeds up computations compared to using Python lists, especially for large datasets.\n",
    "\n",
    "2. **Convenience**: NumPy simplifies the syntax for mathematical operations. You can perform element-wise operations directly on arrays, which makes code cleaner and easier to read.\n",
    "\n",
    "3. **Broadcasting**: NumPy allows for operations on arrays of different shapes through a feature called broadcasting. This means you can perform arithmetic operations on arrays of different sizes without manually adjusting their shapes.\n",
    "\n",
    "4. **Integration with Other Libraries**: NumPy serves as the foundation for many other scientific libraries in Python, such as SciPy, Pandas, and Matplotlib. This integration makes it easier to handle data processing and visualization.\n",
    "\n",
    "5. **Data Manipulation**: NumPy provides tools for reshaping, slicing, and indexing arrays, allowing for flexible data manipulation and access.\n",
    "\n",
    "Overall, NumPy greatly enhances Python’s capabilities for numerical operations, making it a vital tool for scientists, engineers, and data analysts."
   ]
  },
  {
   "cell_type": "markdown",
   "metadata": {},
   "source": [
    "## Question 2.Compare and contrast np.mean() and np.average() functions in NumPy. When would you use one over the other?\n",
    "Both `np.mean()` and `np.average()` are functions in NumPy used to calculate the average of values in an array, but they have some differences in functionality. Here’s a simple comparison:\n",
    "\n",
    "### `np.mean()`\n",
    "- **Purpose**: Calculates the arithmetic mean of an array.\n",
    "- **How it Works**: It sums all the elements in the array and divides by the number of elements.\n",
    "- **Use Case**: Use `np.mean()` when you want a straightforward average without any additional considerations.\n",
    "\n",
    "### `np.average()`\n",
    "- **Purpose**: Calculates the weighted average of an array.\n",
    "- **How it Works**: Similar to `np.mean()`, but it also allows for an optional parameter called `weights`. If weights are provided, it computes the average based on those weights.\n",
    "- **Use Case**: Use `np.average()` when you need to account for the importance of different values (weights) in the calculation. For example, if some scores in a dataset should count more than others.\n",
    "\n",
    "### Summary\n",
    "- **Use `np.mean()`** when you want a simple average of all values.\n",
    "- **Use `np.average()`** when you need to consider the relative importance of different values using weights.\n",
    "\n",
    "In essence, `np.average()` provides more flexibility, while `np.mean()` is straightforward and easier for basic calculations."
   ]
  },
  {
   "cell_type": "markdown",
   "metadata": {},
   "source": [
    "## Question 3.Describe the methods for reversing a NumPy array along different axes. Provide examples for 1D and 2D arrays.\n",
    "Reversing a NumPy array can be done using slicing, and you can reverse along different axes depending on the array's dimensions. Here’s how to do it for both 1D and 2D arrays:\n",
    "\n",
    "### Reversing a 1D Array\n",
    "\n",
    "For a 1D array, you can reverse it using slicing. Here’s how:\n",
    "\n",
    "**Example:**"
   ]
  },
  {
   "cell_type": "code",
   "execution_count": null,
   "metadata": {},
   "outputs": [],
   "source": [
    "## Creating reverse array of 1D\n",
    "import numpy as np\n",
    "\n",
    "#Create 1D array\n",
    "array_1d = np.array([1,2,3,4,5,6,7,8,9])\n",
    "\n",
    "#Creating reverse array of 1D array\n",
    "reverse_array = array_1d[::-1]\n",
    "\n",
    "#Printing 1D array and their reverse array\n",
    "print(\"     1D Array\",array_1d)\n",
    "print(\"Reverse Array\",reverse_array)"
   ]
  },
  {
   "cell_type": "markdown",
   "metadata": {},
   "source": [
    "### Reversing a 2D Array\n",
    "\n",
    "For a 2D array, you can reverse it along different axes: rows or columns.\n",
    "\n",
    "1. **Reversing Along Rows (Vertical)**\n",
    "   This means reversing the order of the rows.\n",
    "\n",
    "**Example:**"
   ]
  },
  {
   "cell_type": "code",
   "execution_count": null,
   "metadata": {},
   "outputs": [],
   "source": [
    "# Create a 2D array\n",
    "array_2d = np.array( [[1,2,3],\n",
    "                     [4,5,6],\n",
    "                     [7,8,9]])\n",
    "# Create a Reverse of 2D array\n",
    "reversed_array_2d = array_2d[::-1]\n",
    "\n",
    "#Printing 2D array and Reverse of 2D array\n",
    "print(\"2D Array is:\")\n",
    "print(array_2d)\n",
    "print(\"Reverse of 2D Array is given below: \")\n",
    "print(reversed_array_2d)\n"
   ]
  },
  {
   "cell_type": "markdown",
   "metadata": {},
   "source": [
    "2. **Reversing Along Columns (Horizontal)**\n",
    "   This means reversing the order of the columns.\n",
    "\n",
    "**Example:**"
   ]
  },
  {
   "cell_type": "code",
   "execution_count": null,
   "metadata": {},
   "outputs": [],
   "source": [
    "# Reverse the array along columns\n",
    "reversed_columns = array_2d[:, ::-1]\n",
    "\n",
    "#Reverse column of 2d array\n",
    "print(\"Reverse Column of 2d array is given below: \")\n",
    "print(reversed_columns)"
   ]
  },
  {
   "cell_type": "markdown",
   "metadata": {},
   "source": [
    "### Summary\n",
    "- For **1D arrays**, use slicing `[::-1]` to reverse.\n",
    "- For **2D arrays**:\n",
    "  - Use `[::-1]` to reverse rows.\n",
    "  - Use `[:, ::-1]` to reverse columns.\n",
    "\n",
    "These methods are simple and effective for reversing arrays along different axes."
   ]
  },
  {
   "cell_type": "markdown",
   "metadata": {},
   "source": [
    "## Question 4. How can you determine the data type of elements in a NumPy array? Discuss the importance of data types in memory management and performance.\n",
    "In NumPy, you can determine the data type of elements in an array using the `.dtype` attribute. This attribute provides information about the type of data stored in the array, such as integers, floats, or strings.\n",
    "\n",
    "### Importance of Data Types\n",
    "\n",
    "1. **Memory Management**:\n",
    "   - Different data types occupy different amounts of memory. For example, an integer typically uses 4 bytes, while a float might use 8 bytes. Choosing the appropriate data type can help minimize memory usage, which is crucial for large datasets.\n",
    "\n",
    "2. **Performance**:\n",
    "   - Operations on arrays with specific data types can be faster than on mixed or incompatible types. NumPy is optimized for operations on homogeneous data (all elements of the same type), which leads to better performance and faster computations.\n",
    "\n",
    "3. **Data Integrity**:\n",
    "   - Using the correct data type ensures that operations behave as expected. For example, using an integer type for counting ensures you don’t accidentally introduce decimal points, which can lead to errors in calculations.\n",
    "\n",
    "### Example of Determining Data Type\n",
    "You can check the data type of a NumPy array like this:"
   ]
  },
  {
   "cell_type": "code",
   "execution_count": null,
   "metadata": {},
   "outputs": [],
   "source": [
    "import numpy as np\n",
    "array = np.array([1,2,3])\n",
    "print(array.dtype)\n",
    "# Output: int64 (or int32 depending on your system)"
   ]
  },
  {
   "cell_type": "markdown",
   "metadata": {},
   "source": [
    "### Summary\n",
    "Understanding and specifying data types in NumPy arrays is essential for effective memory management and optimal performance in numerical computations. By using the appropriate data type, you can ensure efficient use of resources and reliable results."
   ]
  },
  {
   "cell_type": "markdown",
   "metadata": {},
   "source": [
    "## Question 5.Define ndarrays in NumPy and explain their key features. How do they differ from standard Python lists?\n",
    "### Definition of ndarrays\n",
    "In NumPy, **ndarrays** (n-dimensional arrays) are special data structures used to store collections of numbers in a grid-like format. They can have one or more dimensions, making them versatile for various data types.\n",
    "\n",
    "### Key Features of ndarrays\n",
    "1. **Same Type**: All elements in an ndarray are of the same data type, which helps in efficient storage and calculations.\n",
    "\n",
    "2. **Multiple Dimensions**: Ndarrays can be one-dimensional (like a list), two-dimensional (like a table), or even more dimensions, allowing for complex data arrangements.\n",
    "\n",
    "3. **Speed**: Ndarrays are faster than standard Python lists for mathematical operations because they are optimized for performance and use less memory.\n",
    "\n",
    "4. **Easy Calculations**: You can perform calculations on all elements at once (like adding a number to every element) without needing loops.\n",
    "\n",
    "5. **Broadcasting**: This feature lets you perform operations on arrays of different shapes without extra coding, making it easier to work with datasets.\n",
    "\n",
    "6. **Built-in Functions**: NumPy offers many functions specifically for ndarrays, such as those for statistical analysis or linear algebra.\n",
    "\n",
    "### Differences from Standard Python Lists\n",
    "1. **Type Consistency**: Python lists can hold different types of elements (like integers and strings), while ndarrays require all elements to be the same type.\n",
    "\n",
    "2. **Performance**: Ndarrays are more efficient for numerical tasks, while Python lists can be slower and use more memory.\n",
    "\n",
    "3. **True Dimensions**: Ndarrays support multi-dimensional data natively, while Python lists need to be nested (lists within lists) to achieve similar structures.\n",
    "\n",
    "4. **Functionality**: Ndarrays come with many built-in math functions, while Python lists require more manual effort for similar calculations.\n",
    "\n",
    "### Summary\n",
    "Ndarrays are a powerful tool in NumPy for handling numerical data efficiently, offering advantages in speed, functionality, and ease of use compared to standard Python lists."
   ]
  },
  {
   "cell_type": "markdown",
   "metadata": {},
   "source": [
    "## Question 6.Analyze the performance benefits of NumPy arrays over Python lists for large-scale numerical operations.\n",
    "NumPy arrays offer several performance benefits over Python lists, especially for large-scale numerical operations. Here’s a breakdown in simple terms:\n",
    "\n",
    "### 1. **Speed**\n",
    "- **Optimized for Math**: NumPy is designed specifically for numerical calculations. Its operations are implemented in lower-level languages (like C), making them much faster than operations on Python lists.\n",
    "- **Vectorized Operations**: With NumPy, you can perform calculations on entire arrays at once (like adding or multiplying all elements). This is much quicker than using loops to do the same with Python lists.\n",
    "\n",
    "### 2. **Memory Efficiency**\n",
    "- **Compact Storage**: NumPy arrays use less memory than Python lists because they store data in a more compact way. Since all elements are of the same type, NumPy can optimize how they are stored.\n",
    "- **Contiguous Memory**: Ndarrays are stored in a single block of memory, which reduces overhead and allows faster access to data compared to Python lists, which can have scattered memory locations.\n",
    "\n",
    "### 3. **Less Overhead**\n",
    "- **Fixed Size**: Once you create a NumPy array, its size is fixed. This reduces overhead compared to Python lists, which can grow and shrink dynamically, requiring more memory management.\n",
    "- **Homogeneous Types**: Since all elements in a NumPy array are of the same type, NumPy avoids the type-checking overhead that Python lists incur.\n",
    "\n",
    "### 4. **Built-in Functions**\n",
    "- **Rich Library of Functions**: NumPy provides a wide range of optimized mathematical functions that can be applied directly to arrays, reducing the need to write custom functions and speeding up development and execution.\n",
    "\n",
    "### Summary\n",
    "In summary, NumPy arrays are faster, more memory-efficient, and optimized for numerical operations compared to Python lists. This makes them the preferred choice for large-scale data analysis and scientific computing."
   ]
  },
  {
   "cell_type": "markdown",
   "metadata": {},
   "source": [
    "## Question 7.Compare vstack() and hstack() functions in NumPy. Provide examples demonstrating their usage and output.\n",
    "In NumPy, the `vstack()` and `hstack()` functions are used to stack arrays vertically and horizontally, respectively. Here’s a comparison along with simple examples for each:\n",
    "\n",
    "### `vstack()`\n",
    "- **Purpose**: Stacks arrays vertically (row-wise).\n",
    "- **How It Works**: It takes multiple arrays and adds them on top of each other, creating more rows.\n",
    "\n",
    "**Example**:"
   ]
  },
  {
   "cell_type": "code",
   "execution_count": 45,
   "metadata": {},
   "outputs": [
    {
     "name": "stdout",
     "output_type": "stream",
     "text": [
      "[[1 2 3]\n",
      " [4 5 6]]\n"
     ]
    }
   ],
   "source": [
    "import numpy as np\n",
    "\n",
    "# Create two 1D array\n",
    "array1d = np.array([1,2,3])\n",
    "array2d = np.array([4,5,6])\n",
    "\n",
    "# Using vstack to stack them vertically\n",
    "vstack = np.vstack((array1d,array2d))\n",
    "\n",
    "print (vstack)"
   ]
  },
  {
   "cell_type": "markdown",
   "metadata": {},
   "source": [
    "### `hstack()`\n",
    "- **Purpose**: Stacks arrays horizontally (column-wise).\n",
    "- **How It Works**: It takes multiple arrays and places them side by side, creating more columns.\n",
    "\n",
    "**Example**:\n"
   ]
  },
  {
   "cell_type": "code",
   "execution_count": 49,
   "metadata": {},
   "outputs": [
    {
     "name": "stdout",
     "output_type": "stream",
     "text": [
      "[1 2 3 4 5 6 7 8]\n"
     ]
    }
   ],
   "source": [
    "# Create two 1d arrays\n",
    "array1d = np.array([1,2,3,4]) \n",
    "array2d = np.array([5,6,7,8])\n",
    "\n",
    "# Using hstack to stack them horizontally\n",
    "hstacked_array = np.hstack((array1d,array2d))\n",
    "\n",
    "print(hstacked_array)"
   ]
  },
  {
   "cell_type": "markdown",
   "metadata": {},
   "source": [
    "### Summary\n",
    "- **`vstack()`** stacks arrays on top of each other (increases rows).\n",
    "- **`hstack()`** stacks arrays side by side (increases columns).\n",
    "\n",
    "These functions are useful for combining arrays in different ways depending on how you want to structure your data."
   ]
  },
  {
   "cell_type": "markdown",
   "metadata": {},
   "source": [
    "## Question 8.Explain the differences between fliplr() and flipud() methods in NumPy, including their effects on various array dimensions.\n",
    "In NumPy, the `fliplr()` and `flipud()` methods are used to reverse the order of elements in arrays, but they do so in different directions. Here’s a simple explanation of their differences and how they affect various array dimensions:\n",
    "\n",
    "### `fliplr()`\n",
    "- **Purpose**: Flips an array from left to right (horizontally).\n",
    "- **Effect on Arrays**:\n",
    "  - For 2D arrays, it reverses the order of columns.\n",
    "  - For 1D arrays, it behaves like a general flip since there's only one dimension.\n",
    "\n",
    "**Example**:"
   ]
  },
  {
   "cell_type": "code",
   "execution_count": 53,
   "metadata": {},
   "outputs": [
    {
     "name": "stdout",
     "output_type": "stream",
     "text": [
      "2D array is given below: \n",
      " [[1 2 3]\n",
      " [4 5 6]]\n",
      "Flipped array from left to right of 2D array is given below: \n",
      " [[3 2 1]\n",
      " [6 5 4]]\n"
     ]
    }
   ],
   "source": [
    "#Importing Numpy Library as np\n",
    "import numpy as np\n",
    "\n",
    "# Creating 2D array\n",
    "array2d = np.array([[1,2,3],\n",
    "                    [4,5,6]])\n",
    "# Using fliplr to Flip it to Left to Right\n",
    "Fliplr_array2d = np.fliplr(array2d)\n",
    "\n",
    "print(\"2D array is given below: \\n\",array2d)\n",
    "print(\"Flipped array from left to right of 2D array is given below: \\n\",Fliplr_array2d)\n"
   ]
  },
  {
   "cell_type": "markdown",
   "metadata": {},
   "source": [
    "### `flipud()`\n",
    "- **Purpose**: Flips an array from top to bottom (vertically).\n",
    "- **Effect on Arrays**:\n",
    "  - For 2D arrays, it reverses the order of rows.\n",
    "  - For 1D arrays, it still flips the elements but is less common since 1D arrays don't have rows.\n",
    "\n",
    "**Example**:\n"
   ]
  },
  {
   "cell_type": "code",
   "execution_count": 57,
   "metadata": {},
   "outputs": [
    {
     "name": "stdout",
     "output_type": "stream",
     "text": [
      "Flipped from up to down for 1D array is given below \n",
      " [4 3 2 1]\n",
      "Flipped in 1D row is reacting as Fliplr \n",
      "\n",
      "Flipped from up to down for 2D array is given below \n",
      " [[5 6 7 8]\n",
      " [1 2 3 4]]\n"
     ]
    }
   ],
   "source": [
    "#numpy already imported so don't need to import every time\n",
    "# import numpy as np\n",
    "array_1d = np.array([1,2,3,4])\n",
    "array_2d = np.array([[1,2,3,4],\n",
    "                     [5,6,7,8]])\n",
    "\n",
    "# Using Flipup to Flip it up to down\n",
    "flipup_array_1d = np.flipud(array_1d)\n",
    "flipup_array_2d = np.flipud(array_2d)\n",
    "\n",
    "print(\"Flipped from up to down for 1D array is given below \\n\",flipup_array_1d,)\n",
    "print(\"Flipped in 1D row is reacting as Fliplr \\n\")\n",
    "print(\"Flipped from up to down for 2D array is given below \\n\",flipup_array_2d)\n"
   ]
  },
  {
   "cell_type": "markdown",
   "metadata": {},
   "source": [
    "### Summary of Differences\n",
    "- **Direction**: \n",
    "  - `fliplr()` flips horizontally (left to right).\n",
    "  - `flipud()` flips vertically (top to bottom).\n",
    "\n",
    "- **Impact on 2D Arrays**:\n",
    "  - `fliplr()` changes the order of columns.\n",
    "  - `flipud()` changes the order of rows.\n",
    "\n",
    "These methods are useful for manipulating the orientation of your data in arrays."
   ]
  },
  {
   "cell_type": "markdown",
   "metadata": {},
   "source": [
    "## Question 9.Discuss the functionality of the array_split() method in NumPy. How does it handle uneven splits?\n",
    "The `array_split()` method in NumPy is used to divide an array into multiple sub-arrays (or chunks). Here’s a breakdown of its functionality and how it manages uneven splits:\n",
    "\n",
    "### Functionality of `array_split()`\n",
    "\n",
    "1. **Basic Usage**:\n",
    "   - The method allows you to split an array into a specified number of equal or nearly equal parts.\n",
    "   - Syntax: `numpy.array_split(array, indices_or_sections)`\n",
    "\n",
    "2. **Parameters**:\n",
    "   - **`array`**: The input array you want to split.\n",
    "   - **`indices_or_sections`**: This can be an integer (indicating the number of equal splits) or a list of indices (specifying where to split the array).\n",
    "\n",
    "3. **Return Value**:\n",
    "   - The method returns a list of sub-arrays.\n",
    "\n",
    "### Handling Uneven Splits\n",
    "\n",
    "When the size of the array is not perfectly divisible by the number of sections you want, `array_split()` manages this by distributing the remaining elements as evenly as possible across the resulting sub-arrays.\n",
    "\n",
    "#### Example of Uneven Splits"
   ]
  },
  {
   "cell_type": "code",
   "execution_count": 58,
   "metadata": {},
   "outputs": [
    {
     "name": "stdout",
     "output_type": "stream",
     "text": [
      "[array([1, 2, 3, 4]), array([5, 6, 7, 8]), array([ 9, 10, 11])]\n"
     ]
    }
   ],
   "source": [
    "# import numpy as np (already imported)\n",
    "array1d = np.array([1,2,3,4,5,6,7,8,9,10,11])\n",
    "\n",
    "#Splitting into 3 parts\n",
    "splitted_array1d = np.array_split(array1d,3)\n",
    "\n",
    "print(splitted_array1d)"
   ]
  },
  {
   "cell_type": "markdown",
   "metadata": {},
   "source": [
    "### Explanation of the Example\n",
    "- In the example above, the original array has 11 elements, and we want to split it into 3 parts.\n",
    "- Since 11 cannot be evenly divided by 3, the method creates:\n",
    "  - The first sub-array gets 4 elements.\n",
    "  - The second sub-array gets 4 elements.\n",
    "  - The third sub-array gets the remaining 3 elements.\n",
    "\n",
    "### Summary\n",
    "- The `array_split()` method is useful for dividing an array into smaller chunks.\n",
    "- It handles uneven splits by distributing the remaining elements as evenly as possible among the sub-arrays.\n",
    "- This makes it flexible for handling various sizes and ensures that no elements are lost in the process."
   ]
  },
  {
   "cell_type": "markdown",
   "metadata": {},
   "source": [
    "## Question 10.Explain the concepts of vectorization and broadcasting in NumPy. How do they contribute to efficient array operations?\n",
    " ### Vectorization\n",
    "\n",
    "**Concept**:\n",
    "Vectorization refers to the ability to perform operations on entire arrays at once, rather than using loops to process each element individually. In NumPy, this means you can apply mathematical operations to all elements of an array simultaneously.\n",
    "\n",
    "**Benefits**:\n",
    "- **Speed**: Vectorized operations are executed in compiled code, which makes them much faster than loops in Python.\n",
    "- **Simplicity**: Code becomes cleaner and easier to read since you can apply operations directly to arrays without writing complex loops.\n",
    "\n",
    "**Example**:\n",
    "Instead of adding 1 to each element of an array with a loop, you can do it like this:"
   ]
  },
  {
   "cell_type": "code",
   "execution_count": 60,
   "metadata": {},
   "outputs": [
    {
     "name": "stdout",
     "output_type": "stream",
     "text": [
      "Value of array1d before adding 1 : \n",
      " [1 2 3 4 5 6]\n",
      "Value after adding 1 to array1d: \n",
      " [2 3 4 5 6 7]\n"
     ]
    }
   ],
   "source": [
    "# import numpy as np (Already imported in above programs)\n",
    "array1d = np.array([1,2,3,4,5,6])\n",
    "\n",
    "# Now we will add 1 to array1d\n",
    "result_array1d = array1d + 1\n",
    "\n",
    "print(\"Value of array1d before adding 1 : \\n\",array1d)\n",
    "print(\"Value after adding 1 to array1d: \\n\",result_array1d)"
   ]
  },
  {
   "cell_type": "markdown",
   "metadata": {},
   "source": [
    "### Broadcasting\n",
    "\n",
    "**Concept**:\n",
    "Broadcasting is a feature that allows NumPy to perform operations on arrays of different shapes and sizes without requiring explicit reshaping. When you operate on two arrays of different sizes, NumPy automatically expands the smaller array to match the size of the larger one.\n",
    "\n",
    "**Benefits**:\n",
    "- **Flexibility**: You can perform operations on arrays that have different shapes, which makes your code more versatile.\n",
    "- **Efficiency**: Broadcasting avoids the need to create large copies of arrays, saving memory and improving performance.\n",
    "\n",
    "**Example**:\n",
    "If you have a 1D array and a 2D array, broadcasting lets you add them together:"
   ]
  },
  {
   "cell_type": "code",
   "execution_count": 63,
   "metadata": {},
   "outputs": [
    {
     "name": "stdout",
     "output_type": "stream",
     "text": [
      "Result of addition of array1d and array2d: \n",
      " [[ 2  4  6  8]\n",
      " [ 6  8 10 12]]\n"
     ]
    }
   ],
   "source": [
    "# import numpy as np\n",
    "array1d = np.array([1,2,3,4])\n",
    "array2d = np.array([[1,2,3,4],\n",
    "                    [5,6,7,8]])\n",
    "\n",
    "#The array of 1D array is broadcasted to match to the 2D array.\n",
    "addofarrays = array2d + array1d\n",
    "\n",
    "print(\"Result of addition of array1d and array2d: \\n\",addofarrays)"
   ]
  },
  {
   "cell_type": "markdown",
   "metadata": {},
   "source": [
    "### Summary\n",
    "\n",
    "- **Vectorization** allows you to perform operations on entire arrays at once, which speeds up calculations and simplifies code.\n",
    "- **Broadcasting** lets you work with arrays of different shapes, automatically expanding smaller arrays as needed, improving flexibility and efficiency.\n",
    "\n",
    "Together, these concepts enable efficient and powerful array operations in NumPy, making it a go-to library for numerical computing in Python."
   ]
  }
 ],
 "metadata": {
  "kernelspec": {
   "display_name": "Python 3",
   "language": "python",
   "name": "python3"
  },
  "language_info": {
   "codemirror_mode": {
    "name": "ipython",
    "version": 3
   },
   "file_extension": ".py",
   "mimetype": "text/x-python",
   "name": "python",
   "nbconvert_exporter": "python",
   "pygments_lexer": "ipython3",
   "version": "3.12.6"
  }
 },
 "nbformat": 4,
 "nbformat_minor": 2
}
